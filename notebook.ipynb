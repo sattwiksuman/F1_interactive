{
 "cells": [
  {
   "cell_type": "code",
   "execution_count": null,
   "metadata": {},
   "outputs": [],
   "source": []
  },
  {
   "cell_type": "code",
   "execution_count": 1,
   "metadata": {},
   "outputs": [],
   "source": [
    "# Import dependencies\n",
    "from statistics import mode\n",
    "import fastf1 as ff1\n",
    "from fastf1 import plotting\n",
    "from fastf1 import utils\n",
    "\n",
    "from matplotlib import pyplot as plt\n",
    "from matplotlib.pyplot import figure\n",
    "\n",
    "import numpy as np\n",
    "import pandas as pd\n",
    "from requests import Session\n"
   ]
  },
  {
   "cell_type": "code",
   "execution_count": 2,
   "metadata": {},
   "outputs": [],
   "source": [
    "ff1.Cache.enable_cache('cache') "
   ]
  },
  {
   "cell_type": "code",
   "execution_count": 22,
   "metadata": {},
   "outputs": [],
   "source": [
    "year=2022\n",
    "grand_prix='Imola'\n",
    "session='R'\n",
    "driver_1 = 'SAI'\n",
    "driver_2 = 'LEC'"
   ]
  },
  {
   "cell_type": "code",
   "execution_count": 23,
   "metadata": {},
   "outputs": [
    {
     "name": "stderr",
     "output_type": "stream",
     "text": [
      "core           INFO \tLoading data for Emilia Romagna Grand Prix - Race [v2.2.5]\n",
      "api            INFO \tUsing cached data for driver_info\n",
      "api            INFO \tUsing cached data for timing_data\n",
      "api            INFO \tUsing cached data for timing_app_data\n",
      "core           INFO \tProcessing timing data...\n",
      "api            INFO \tUsing cached data for session_status_data\n",
      "api            INFO \tUsing cached data for track_status_data\n",
      "api            INFO \tUsing cached data for car_data\n",
      "api            INFO \tUsing cached data for position_data\n",
      "api            INFO \tUsing cached data for weather_data\n",
      "api            INFO \tUsing cached data for race_control_messages\n",
      "core           INFO \tFinished loading data for 20 drivers: ['1', '11', '4', '63', '77', '16', '22', '5', '20', '18', '23', '10', '44', '31', '24', '6', '47', '3', '14', '55']\n"
     ]
    }
   ],
   "source": [
    "session_data = ff1.get_session(year, grand_prix, session)\n",
    "session_data.load()\n",
    "laps_driver_1 = session_data.laps.pick_driver(driver_1)\n",
    "laps_driver_2 = session_data.laps.pick_driver(driver_2)"
   ]
  },
  {
   "cell_type": "code",
   "execution_count": 26,
   "metadata": {},
   "outputs": [
    {
     "data": {
      "text/html": [
       "<div>\n",
       "<style scoped>\n",
       "    .dataframe tbody tr th:only-of-type {\n",
       "        vertical-align: middle;\n",
       "    }\n",
       "\n",
       "    .dataframe tbody tr th {\n",
       "        vertical-align: top;\n",
       "    }\n",
       "\n",
       "    .dataframe thead th {\n",
       "        text-align: right;\n",
       "    }\n",
       "</style>\n",
       "<table border=\"1\" class=\"dataframe\">\n",
       "  <thead>\n",
       "    <tr style=\"text-align: right;\">\n",
       "      <th></th>\n",
       "      <th>Time</th>\n",
       "      <th>DriverNumber</th>\n",
       "      <th>LapTime</th>\n",
       "      <th>LapNumber</th>\n",
       "      <th>Stint</th>\n",
       "      <th>PitOutTime</th>\n",
       "      <th>PitInTime</th>\n",
       "      <th>Sector1Time</th>\n",
       "      <th>Sector2Time</th>\n",
       "      <th>Sector3Time</th>\n",
       "      <th>...</th>\n",
       "      <th>IsPersonalBest</th>\n",
       "      <th>Compound</th>\n",
       "      <th>TyreLife</th>\n",
       "      <th>FreshTyre</th>\n",
       "      <th>LapStartTime</th>\n",
       "      <th>Team</th>\n",
       "      <th>Driver</th>\n",
       "      <th>TrackStatus</th>\n",
       "      <th>IsAccurate</th>\n",
       "      <th>LapStartDate</th>\n",
       "    </tr>\n",
       "  </thead>\n",
       "  <tbody>\n",
       "    <tr>\n",
       "      <th>315</th>\n",
       "      <td>0 days 01:03:59.435000</td>\n",
       "      <td>16</td>\n",
       "      <td>NaT</td>\n",
       "      <td>1.0</td>\n",
       "      <td>1.0</td>\n",
       "      <td>0 days 00:26:29.172000</td>\n",
       "      <td>NaT</td>\n",
       "      <td>NaT</td>\n",
       "      <td>0 days 00:00:32.434000</td>\n",
       "      <td>0 days 00:00:48.366000</td>\n",
       "      <td>...</td>\n",
       "      <td>False</td>\n",
       "      <td>INTERMEDIATE</td>\n",
       "      <td>1.0</td>\n",
       "      <td>True</td>\n",
       "      <td>0 days 01:02:03.225000</td>\n",
       "      <td>Ferrari</td>\n",
       "      <td>LEC</td>\n",
       "      <td>24</td>\n",
       "      <td>False</td>\n",
       "      <td>2022-04-24 13:03:03.238</td>\n",
       "    </tr>\n",
       "    <tr>\n",
       "      <th>316</th>\n",
       "      <td>0 days 01:06:25.949000</td>\n",
       "      <td>16</td>\n",
       "      <td>0 days 00:02:26.514000</td>\n",
       "      <td>2.0</td>\n",
       "      <td>1.0</td>\n",
       "      <td>NaT</td>\n",
       "      <td>NaT</td>\n",
       "      <td>0 days 00:00:52.511000</td>\n",
       "      <td>0 days 00:00:49.401000</td>\n",
       "      <td>0 days 00:00:44.602000</td>\n",
       "      <td>...</td>\n",
       "      <td>False</td>\n",
       "      <td>INTERMEDIATE</td>\n",
       "      <td>2.0</td>\n",
       "      <td>True</td>\n",
       "      <td>0 days 01:03:59.435000</td>\n",
       "      <td>Ferrari</td>\n",
       "      <td>LEC</td>\n",
       "      <td>4</td>\n",
       "      <td>False</td>\n",
       "      <td>2022-04-24 13:04:59.448</td>\n",
       "    </tr>\n",
       "    <tr>\n",
       "      <th>317</th>\n",
       "      <td>0 days 01:08:45.221000</td>\n",
       "      <td>16</td>\n",
       "      <td>0 days 00:02:19.272000</td>\n",
       "      <td>3.0</td>\n",
       "      <td>1.0</td>\n",
       "      <td>NaT</td>\n",
       "      <td>NaT</td>\n",
       "      <td>0 days 00:00:45.324000</td>\n",
       "      <td>0 days 00:00:46.153000</td>\n",
       "      <td>0 days 00:00:47.795000</td>\n",
       "      <td>...</td>\n",
       "      <td>False</td>\n",
       "      <td>INTERMEDIATE</td>\n",
       "      <td>3.0</td>\n",
       "      <td>True</td>\n",
       "      <td>0 days 01:06:25.949000</td>\n",
       "      <td>Ferrari</td>\n",
       "      <td>LEC</td>\n",
       "      <td>4</td>\n",
       "      <td>False</td>\n",
       "      <td>2022-04-24 13:07:25.962</td>\n",
       "    </tr>\n",
       "    <tr>\n",
       "      <th>318</th>\n",
       "      <td>0 days 01:11:06.369000</td>\n",
       "      <td>16</td>\n",
       "      <td>0 days 00:02:21.148000</td>\n",
       "      <td>4.0</td>\n",
       "      <td>1.0</td>\n",
       "      <td>NaT</td>\n",
       "      <td>NaT</td>\n",
       "      <td>0 days 00:00:39.249000</td>\n",
       "      <td>0 days 00:00:47.578000</td>\n",
       "      <td>0 days 00:00:54.321000</td>\n",
       "      <td>...</td>\n",
       "      <td>False</td>\n",
       "      <td>INTERMEDIATE</td>\n",
       "      <td>4.0</td>\n",
       "      <td>True</td>\n",
       "      <td>0 days 01:08:45.221000</td>\n",
       "      <td>Ferrari</td>\n",
       "      <td>LEC</td>\n",
       "      <td>4</td>\n",
       "      <td>False</td>\n",
       "      <td>2022-04-24 13:09:45.234</td>\n",
       "    </tr>\n",
       "    <tr>\n",
       "      <th>319</th>\n",
       "      <td>0 days 01:12:39.961000</td>\n",
       "      <td>16</td>\n",
       "      <td>0 days 00:01:33.592000</td>\n",
       "      <td>5.0</td>\n",
       "      <td>1.0</td>\n",
       "      <td>NaT</td>\n",
       "      <td>NaT</td>\n",
       "      <td>0 days 00:00:30.808000</td>\n",
       "      <td>0 days 00:00:31.405000</td>\n",
       "      <td>0 days 00:00:31.379000</td>\n",
       "      <td>...</td>\n",
       "      <td>False</td>\n",
       "      <td>INTERMEDIATE</td>\n",
       "      <td>5.0</td>\n",
       "      <td>True</td>\n",
       "      <td>0 days 01:11:06.369000</td>\n",
       "      <td>Ferrari</td>\n",
       "      <td>LEC</td>\n",
       "      <td>1</td>\n",
       "      <td>False</td>\n",
       "      <td>2022-04-24 13:12:06.382</td>\n",
       "    </tr>\n",
       "  </tbody>\n",
       "</table>\n",
       "<p>5 rows × 27 columns</p>\n",
       "</div>"
      ],
      "text/plain": [
       "                      Time DriverNumber                LapTime  LapNumber  \\\n",
       "315 0 days 01:03:59.435000           16                    NaT        1.0   \n",
       "316 0 days 01:06:25.949000           16 0 days 00:02:26.514000        2.0   \n",
       "317 0 days 01:08:45.221000           16 0 days 00:02:19.272000        3.0   \n",
       "318 0 days 01:11:06.369000           16 0 days 00:02:21.148000        4.0   \n",
       "319 0 days 01:12:39.961000           16 0 days 00:01:33.592000        5.0   \n",
       "\n",
       "     Stint             PitOutTime PitInTime            Sector1Time  \\\n",
       "315    1.0 0 days 00:26:29.172000       NaT                    NaT   \n",
       "316    1.0                    NaT       NaT 0 days 00:00:52.511000   \n",
       "317    1.0                    NaT       NaT 0 days 00:00:45.324000   \n",
       "318    1.0                    NaT       NaT 0 days 00:00:39.249000   \n",
       "319    1.0                    NaT       NaT 0 days 00:00:30.808000   \n",
       "\n",
       "               Sector2Time            Sector3Time  ... IsPersonalBest  \\\n",
       "315 0 days 00:00:32.434000 0 days 00:00:48.366000  ...          False   \n",
       "316 0 days 00:00:49.401000 0 days 00:00:44.602000  ...          False   \n",
       "317 0 days 00:00:46.153000 0 days 00:00:47.795000  ...          False   \n",
       "318 0 days 00:00:47.578000 0 days 00:00:54.321000  ...          False   \n",
       "319 0 days 00:00:31.405000 0 days 00:00:31.379000  ...          False   \n",
       "\n",
       "         Compound TyreLife  FreshTyre           LapStartTime     Team  Driver  \\\n",
       "315  INTERMEDIATE      1.0       True 0 days 01:02:03.225000  Ferrari     LEC   \n",
       "316  INTERMEDIATE      2.0       True 0 days 01:03:59.435000  Ferrari     LEC   \n",
       "317  INTERMEDIATE      3.0       True 0 days 01:06:25.949000  Ferrari     LEC   \n",
       "318  INTERMEDIATE      4.0       True 0 days 01:08:45.221000  Ferrari     LEC   \n",
       "319  INTERMEDIATE      5.0       True 0 days 01:11:06.369000  Ferrari     LEC   \n",
       "\n",
       "     TrackStatus IsAccurate            LapStartDate  \n",
       "315           24      False 2022-04-24 13:03:03.238  \n",
       "316            4      False 2022-04-24 13:04:59.448  \n",
       "317            4      False 2022-04-24 13:07:25.962  \n",
       "318            4      False 2022-04-24 13:09:45.234  \n",
       "319            1      False 2022-04-24 13:12:06.382  \n",
       "\n",
       "[5 rows x 27 columns]"
      ]
     },
     "execution_count": 26,
     "metadata": {},
     "output_type": "execute_result"
    }
   ],
   "source": [
    "laps_driver_2.head()"
   ]
  },
  {
   "cell_type": "code",
   "execution_count": 20,
   "metadata": {},
   "outputs": [
    {
     "data": {
      "text/plain": [
       "124.216"
      ]
     },
     "execution_count": 20,
     "metadata": {},
     "output_type": "execute_result"
    }
   ],
   "source": [
    "laps_driver_1[laps_driver_1['LapNumber']==5]['LapTime'].values[0]/ np.timedelta64(1, 's')"
   ]
  },
  {
   "cell_type": "code",
   "execution_count": 21,
   "metadata": {},
   "outputs": [
    {
     "ename": "ValueError",
     "evalue": "x and y must have same first dimension, but have shapes (23,) and (20,)",
     "output_type": "error",
     "traceback": [
      "\u001b[1;31m---------------------------------------------------------------------------\u001b[0m",
      "\u001b[1;31mValueError\u001b[0m                                Traceback (most recent call last)",
      "Input \u001b[1;32mIn [21]\u001b[0m, in \u001b[0;36m<cell line: 3>\u001b[1;34m()\u001b[0m\n\u001b[0;32m      1\u001b[0m fig, ax \u001b[38;5;241m=\u001b[39m plt\u001b[38;5;241m.\u001b[39msubplots()\n\u001b[0;32m      2\u001b[0m ax\u001b[38;5;241m.\u001b[39mplot(laps_driver_1[\u001b[38;5;124m'\u001b[39m\u001b[38;5;124mLapNumber\u001b[39m\u001b[38;5;124m'\u001b[39m], laps_driver_1[\u001b[38;5;124m'\u001b[39m\u001b[38;5;124mLapTime\u001b[39m\u001b[38;5;124m'\u001b[39m]\u001b[38;5;241m/\u001b[39mnp\u001b[38;5;241m.\u001b[39mtimedelta64(\u001b[38;5;241m1\u001b[39m,\u001b[38;5;124m'\u001b[39m\u001b[38;5;124ms\u001b[39m\u001b[38;5;124m'\u001b[39m), color\u001b[38;5;241m=\u001b[39m\u001b[38;5;124m'\u001b[39m\u001b[38;5;124mred\u001b[39m\u001b[38;5;124m'\u001b[39m, label\u001b[38;5;241m=\u001b[39mdriver_1)\n\u001b[1;32m----> 3\u001b[0m \u001b[43max\u001b[49m\u001b[38;5;241;43m.\u001b[39;49m\u001b[43mplot\u001b[49m\u001b[43m(\u001b[49m\u001b[43mlaps_driver_2\u001b[49m\u001b[43m[\u001b[49m\u001b[38;5;124;43m'\u001b[39;49m\u001b[38;5;124;43mLapNumber\u001b[39;49m\u001b[38;5;124;43m'\u001b[39;49m\u001b[43m]\u001b[49m\u001b[43m,\u001b[49m\u001b[43m \u001b[49m\u001b[43mlaps_driver_1\u001b[49m\u001b[43m[\u001b[49m\u001b[38;5;124;43m'\u001b[39;49m\u001b[38;5;124;43mLapTime\u001b[39;49m\u001b[38;5;124;43m'\u001b[39;49m\u001b[43m]\u001b[49m\u001b[38;5;241;43m/\u001b[39;49m\u001b[43mnp\u001b[49m\u001b[38;5;241;43m.\u001b[39;49m\u001b[43mtimedelta64\u001b[49m\u001b[43m(\u001b[49m\u001b[38;5;241;43m1\u001b[39;49m\u001b[43m,\u001b[49m\u001b[38;5;124;43m'\u001b[39;49m\u001b[38;5;124;43ms\u001b[39;49m\u001b[38;5;124;43m'\u001b[39;49m\u001b[43m)\u001b[49m\u001b[43m,\u001b[49m\u001b[43m \u001b[49m\u001b[43mcolor\u001b[49m\u001b[38;5;241;43m=\u001b[39;49m\u001b[38;5;124;43m'\u001b[39;49m\u001b[38;5;124;43mblue\u001b[39;49m\u001b[38;5;124;43m'\u001b[39;49m\u001b[43m,\u001b[49m\u001b[43m \u001b[49m\u001b[43mlabel\u001b[49m\u001b[38;5;241;43m=\u001b[39;49m\u001b[43mdriver_2\u001b[49m\u001b[43m)\u001b[49m\n\u001b[0;32m      5\u001b[0m ax\u001b[38;5;241m.\u001b[39mset_xlabel(\u001b[38;5;124m'\u001b[39m\u001b[38;5;124mLap Number\u001b[39m\u001b[38;5;124m'\u001b[39m)\n\u001b[0;32m      6\u001b[0m ax\u001b[38;5;241m.\u001b[39mset_ylabel(\u001b[38;5;124m'\u001b[39m\u001b[38;5;124mLap Time\u001b[39m\u001b[38;5;124m'\u001b[39m)\n",
      "File \u001b[1;32m~\\anaconda3\\envs\\fastf1_env\\lib\\site-packages\\matplotlib\\axes\\_axes.py:1632\u001b[0m, in \u001b[0;36mAxes.plot\u001b[1;34m(self, scalex, scaley, data, *args, **kwargs)\u001b[0m\n\u001b[0;32m   1390\u001b[0m \u001b[38;5;124;03m\"\"\"\u001b[39;00m\n\u001b[0;32m   1391\u001b[0m \u001b[38;5;124;03mPlot y versus x as lines and/or markers.\u001b[39;00m\n\u001b[0;32m   1392\u001b[0m \n\u001b[1;32m   (...)\u001b[0m\n\u001b[0;32m   1629\u001b[0m \u001b[38;5;124;03m(``'green'``) or hex strings (``'#008000'``).\u001b[39;00m\n\u001b[0;32m   1630\u001b[0m \u001b[38;5;124;03m\"\"\"\u001b[39;00m\n\u001b[0;32m   1631\u001b[0m kwargs \u001b[38;5;241m=\u001b[39m cbook\u001b[38;5;241m.\u001b[39mnormalize_kwargs(kwargs, mlines\u001b[38;5;241m.\u001b[39mLine2D)\n\u001b[1;32m-> 1632\u001b[0m lines \u001b[38;5;241m=\u001b[39m [\u001b[38;5;241m*\u001b[39m\u001b[38;5;28mself\u001b[39m\u001b[38;5;241m.\u001b[39m_get_lines(\u001b[38;5;241m*\u001b[39margs, data\u001b[38;5;241m=\u001b[39mdata, \u001b[38;5;241m*\u001b[39m\u001b[38;5;241m*\u001b[39mkwargs)]\n\u001b[0;32m   1633\u001b[0m \u001b[38;5;28;01mfor\u001b[39;00m line \u001b[38;5;129;01min\u001b[39;00m lines:\n\u001b[0;32m   1634\u001b[0m     \u001b[38;5;28mself\u001b[39m\u001b[38;5;241m.\u001b[39madd_line(line)\n",
      "File \u001b[1;32m~\\anaconda3\\envs\\fastf1_env\\lib\\site-packages\\matplotlib\\axes\\_base.py:312\u001b[0m, in \u001b[0;36m_process_plot_var_args.__call__\u001b[1;34m(self, data, *args, **kwargs)\u001b[0m\n\u001b[0;32m    310\u001b[0m     this \u001b[38;5;241m+\u001b[39m\u001b[38;5;241m=\u001b[39m args[\u001b[38;5;241m0\u001b[39m],\n\u001b[0;32m    311\u001b[0m     args \u001b[38;5;241m=\u001b[39m args[\u001b[38;5;241m1\u001b[39m:]\n\u001b[1;32m--> 312\u001b[0m \u001b[38;5;28;01myield from\u001b[39;00m \u001b[38;5;28;43mself\u001b[39;49m\u001b[38;5;241;43m.\u001b[39;49m\u001b[43m_plot_args\u001b[49m\u001b[43m(\u001b[49m\u001b[43mthis\u001b[49m\u001b[43m,\u001b[49m\u001b[43m \u001b[49m\u001b[43mkwargs\u001b[49m\u001b[43m)\u001b[49m\n",
      "File \u001b[1;32m~\\anaconda3\\envs\\fastf1_env\\lib\\site-packages\\matplotlib\\axes\\_base.py:498\u001b[0m, in \u001b[0;36m_process_plot_var_args._plot_args\u001b[1;34m(self, tup, kwargs, return_kwargs)\u001b[0m\n\u001b[0;32m    495\u001b[0m     \u001b[38;5;28mself\u001b[39m\u001b[38;5;241m.\u001b[39maxes\u001b[38;5;241m.\u001b[39myaxis\u001b[38;5;241m.\u001b[39mupdate_units(y)\n\u001b[0;32m    497\u001b[0m \u001b[38;5;28;01mif\u001b[39;00m x\u001b[38;5;241m.\u001b[39mshape[\u001b[38;5;241m0\u001b[39m] \u001b[38;5;241m!=\u001b[39m y\u001b[38;5;241m.\u001b[39mshape[\u001b[38;5;241m0\u001b[39m]:\n\u001b[1;32m--> 498\u001b[0m     \u001b[38;5;28;01mraise\u001b[39;00m \u001b[38;5;167;01mValueError\u001b[39;00m(\u001b[38;5;124mf\u001b[39m\u001b[38;5;124m\"\u001b[39m\u001b[38;5;124mx and y must have same first dimension, but \u001b[39m\u001b[38;5;124m\"\u001b[39m\n\u001b[0;32m    499\u001b[0m                      \u001b[38;5;124mf\u001b[39m\u001b[38;5;124m\"\u001b[39m\u001b[38;5;124mhave shapes \u001b[39m\u001b[38;5;132;01m{\u001b[39;00mx\u001b[38;5;241m.\u001b[39mshape\u001b[38;5;132;01m}\u001b[39;00m\u001b[38;5;124m and \u001b[39m\u001b[38;5;132;01m{\u001b[39;00my\u001b[38;5;241m.\u001b[39mshape\u001b[38;5;132;01m}\u001b[39;00m\u001b[38;5;124m\"\u001b[39m)\n\u001b[0;32m    500\u001b[0m \u001b[38;5;28;01mif\u001b[39;00m x\u001b[38;5;241m.\u001b[39mndim \u001b[38;5;241m>\u001b[39m \u001b[38;5;241m2\u001b[39m \u001b[38;5;129;01mor\u001b[39;00m y\u001b[38;5;241m.\u001b[39mndim \u001b[38;5;241m>\u001b[39m \u001b[38;5;241m2\u001b[39m:\n\u001b[0;32m    501\u001b[0m     \u001b[38;5;28;01mraise\u001b[39;00m \u001b[38;5;167;01mValueError\u001b[39;00m(\u001b[38;5;124mf\u001b[39m\u001b[38;5;124m\"\u001b[39m\u001b[38;5;124mx and y can be no greater than 2D, but have \u001b[39m\u001b[38;5;124m\"\u001b[39m\n\u001b[0;32m    502\u001b[0m                      \u001b[38;5;124mf\u001b[39m\u001b[38;5;124m\"\u001b[39m\u001b[38;5;124mshapes \u001b[39m\u001b[38;5;132;01m{\u001b[39;00mx\u001b[38;5;241m.\u001b[39mshape\u001b[38;5;132;01m}\u001b[39;00m\u001b[38;5;124m and \u001b[39m\u001b[38;5;132;01m{\u001b[39;00my\u001b[38;5;241m.\u001b[39mshape\u001b[38;5;132;01m}\u001b[39;00m\u001b[38;5;124m\"\u001b[39m)\n",
      "\u001b[1;31mValueError\u001b[0m: x and y must have same first dimension, but have shapes (23,) and (20,)"
     ]
    },
    {
     "data": {
      "image/png": "[encoded data removed]",
      "text/plain": [
       "<Figure size 432x288 with 1 Axes>"
      ]
     },
     "metadata": {
      "needs_background": "light"
     },
     "output_type": "display_data"
    }
   ],
   "source": [
    "fig, ax = plt.subplots()\n",
    "ax.plot(laps_driver_1['LapNumber'], laps_driver_1['LapTime']/np.timedelta64(1,'s'), color='red', label=driver_1)\n",
    "ax.plot(laps_driver_2['LapNumber'], laps_driver_1['LapTime']/np.timedelta64(1,'s'), color='blue', label=driver_2)\n",
    "\n",
    "ax.set_xlabel('Lap Number')\n",
    "ax.set_ylabel('Lap Time')\n",
    "\n",
    "ax.legend()\n",
    "plt.suptitle(f\"Fastest Lap Comparison \\n \"\n",
    "    f\"{session_data.event['EventName']} {session_data.event.year} Race\")\n",
    "plt.show()"
   ]
  },
  {
   "cell_type": "code",
   "execution_count": 25,
   "metadata": {},
   "outputs": [
    {
     "data": {
      "text/plain": [
       "0.0"
      ]
     },
     "execution_count": 25,
     "metadata": {},
     "output_type": "execute_result"
    }
   ],
   "source": [
    "min(laps_driver_1.LapNumber.max(), laps_driver_2.LapNumber.max())"
   ]
  },
  {
   "cell_type": "code",
   "execution_count": 14,
   "metadata": {},
   "outputs": [
    {
     "data": {
      "text/plain": [
       "63.0"
      ]
     },
     "execution_count": 14,
     "metadata": {},
     "output_type": "execute_result"
    }
   ],
   "source": [
    "session_data.laps.LapNumber.max()"
   ]
  },
  {
   "cell_type": "code",
   "execution_count": null,
   "metadata": {},
   "outputs": [],
   "source": []
  }
 ],
 "metadata": {
  "interpreter": {
   "hash": "9b494872e566cccd132d1797b0448e84a470c212f3b423d7f58a93adc4c39ed7"
  },
  "kernelspec": {
   "display_name": "Python 3 (ipykernel)",
   "language": "python",
   "name": "python3"
  },
  "language_info": {
   "codemirror_mode": {
    "name": "ipython",
    "version": 3
   },
   "file_extension": ".py",
   "mimetype": "text/x-python",
   "name": "python",
   "nbconvert_exporter": "python",
   "pygments_lexer": "ipython3",
   "version": "3.9.12"
  }
 },
 "nbformat": 4,
 "nbformat_minor": 2
}
